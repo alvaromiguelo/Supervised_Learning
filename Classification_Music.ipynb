{
 "cells": [
  {
   "cell_type": "markdown",
   "id": "65cce447-3627-4cbc-99b0-29573943fdde",
   "metadata": {},
   "source": [
    "## Importing Libraries"
   ]
  },
  {
   "cell_type": "code",
   "execution_count": 1,
   "id": "3f4423c4-09a9-4395-a7cd-44ec89bbc29e",
   "metadata": {},
   "outputs": [],
   "source": [
    "import numpy as np\n",
    "import pandas as pd\n",
    "import matplotlib.pyplot as plt\n",
    "from sklearn.model_selection import cross_val_score, KFold, train_test_split\n",
    "from sklearn.neighbors import KNeighborsClassifier\n",
    "from sklearn.linear_model import LogisticRegression\n",
    "from sklearn.tree import DecisionTreeClassifier\n",
    "from sklearn.preprocessing import StandardScaler\n",
    "from sklearn.model_selection import train_test_split\n",
    "from sklearn. impute import SimpleImputer\n",
    "from sklearn.pipeline import Pipeline\n",
    "from sklearn.model_selection import GridSearchCV"
   ]
  },
  {
   "cell_type": "code",
   "execution_count": 2,
   "id": "4f0402d9-cc4d-434d-9fad-ab98f3441d85",
   "metadata": {},
   "outputs": [
    {
     "data": {
      "text/html": [
       "<div>\n",
       "<style scoped>\n",
       "    .dataframe tbody tr th:only-of-type {\n",
       "        vertical-align: middle;\n",
       "    }\n",
       "\n",
       "    .dataframe tbody tr th {\n",
       "        vertical-align: top;\n",
       "    }\n",
       "\n",
       "    .dataframe thead th {\n",
       "        text-align: right;\n",
       "    }\n",
       "</style>\n",
       "<table border=\"1\" class=\"dataframe\">\n",
       "  <thead>\n",
       "    <tr style=\"text-align: right;\">\n",
       "      <th></th>\n",
       "      <th>popularity</th>\n",
       "      <th>acousticness</th>\n",
       "      <th>danceability</th>\n",
       "      <th>duration_ms</th>\n",
       "      <th>energy</th>\n",
       "      <th>instrumentalness</th>\n",
       "      <th>liveness</th>\n",
       "      <th>loudness</th>\n",
       "      <th>speechiness</th>\n",
       "      <th>tempo</th>\n",
       "      <th>valence</th>\n",
       "      <th>genre</th>\n",
       "    </tr>\n",
       "  </thead>\n",
       "  <tbody>\n",
       "    <tr>\n",
       "      <th>0</th>\n",
       "      <td>60.0</td>\n",
       "      <td>0.896000</td>\n",
       "      <td>0.726</td>\n",
       "      <td>214547.0</td>\n",
       "      <td>0.177</td>\n",
       "      <td>0.000002</td>\n",
       "      <td>0.1160</td>\n",
       "      <td>-14.824</td>\n",
       "      <td>0.0353</td>\n",
       "      <td>92.934</td>\n",
       "      <td>0.618</td>\n",
       "      <td>1</td>\n",
       "    </tr>\n",
       "    <tr>\n",
       "      <th>1</th>\n",
       "      <td>63.0</td>\n",
       "      <td>0.003840</td>\n",
       "      <td>0.635</td>\n",
       "      <td>190448.0</td>\n",
       "      <td>0.908</td>\n",
       "      <td>0.083400</td>\n",
       "      <td>0.2390</td>\n",
       "      <td>-4.795</td>\n",
       "      <td>0.0563</td>\n",
       "      <td>110.012</td>\n",
       "      <td>0.637</td>\n",
       "      <td>1</td>\n",
       "    </tr>\n",
       "    <tr>\n",
       "      <th>2</th>\n",
       "      <td>59.0</td>\n",
       "      <td>0.000075</td>\n",
       "      <td>0.352</td>\n",
       "      <td>456320.0</td>\n",
       "      <td>0.956</td>\n",
       "      <td>0.020300</td>\n",
       "      <td>0.1250</td>\n",
       "      <td>-3.634</td>\n",
       "      <td>0.1490</td>\n",
       "      <td>122.897</td>\n",
       "      <td>0.228</td>\n",
       "      <td>1</td>\n",
       "    </tr>\n",
       "    <tr>\n",
       "      <th>3</th>\n",
       "      <td>54.0</td>\n",
       "      <td>0.945000</td>\n",
       "      <td>0.488</td>\n",
       "      <td>352280.0</td>\n",
       "      <td>0.326</td>\n",
       "      <td>0.015700</td>\n",
       "      <td>0.1190</td>\n",
       "      <td>-12.020</td>\n",
       "      <td>0.0328</td>\n",
       "      <td>106.063</td>\n",
       "      <td>0.323</td>\n",
       "      <td>1</td>\n",
       "    </tr>\n",
       "    <tr>\n",
       "      <th>4</th>\n",
       "      <td>55.0</td>\n",
       "      <td>0.245000</td>\n",
       "      <td>0.667</td>\n",
       "      <td>273693.0</td>\n",
       "      <td>0.647</td>\n",
       "      <td>0.000297</td>\n",
       "      <td>0.0633</td>\n",
       "      <td>-7.787</td>\n",
       "      <td>0.0487</td>\n",
       "      <td>143.995</td>\n",
       "      <td>0.300</td>\n",
       "      <td>1</td>\n",
       "    </tr>\n",
       "  </tbody>\n",
       "</table>\n",
       "</div>"
      ],
      "text/plain": [
       "   popularity  acousticness  danceability  duration_ms  energy  \\\n",
       "0        60.0      0.896000         0.726     214547.0   0.177   \n",
       "1        63.0      0.003840         0.635     190448.0   0.908   \n",
       "2        59.0      0.000075         0.352     456320.0   0.956   \n",
       "3        54.0      0.945000         0.488     352280.0   0.326   \n",
       "4        55.0      0.245000         0.667     273693.0   0.647   \n",
       "\n",
       "   instrumentalness  liveness  loudness  speechiness    tempo  valence  genre  \n",
       "0          0.000002    0.1160   -14.824       0.0353   92.934    0.618      1  \n",
       "1          0.083400    0.2390    -4.795       0.0563  110.012    0.637      1  \n",
       "2          0.020300    0.1250    -3.634       0.1490  122.897    0.228      1  \n",
       "3          0.015700    0.1190   -12.020       0.0328  106.063    0.323      1  \n",
       "4          0.000297    0.0633    -7.787       0.0487  143.995    0.300      1  "
      ]
     },
     "execution_count": 2,
     "metadata": {},
     "output_type": "execute_result"
    }
   ],
   "source": [
    "music_df = pd.read_csv('music_clean.csv')\n",
    "music_df.drop('Unnamed: 0', axis = 'columns', inplace = True)\n",
    "music_df.head()"
   ]
  },
  {
   "cell_type": "markdown",
   "id": "9cf4b625-49b0-4cdf-94b3-ce33d0bb2cd2",
   "metadata": {},
   "source": [
    "## We want to evaluate some classification models for this dataset\n",
    "\n",
    "-- KNN\n",
    "\n",
    "-- Logistic Regression\n",
    "\n",
    "-- DecisionTree Classifier\n",
    "\n",
    "We will evaluate each one of this classifiers for our dataset to predict the genre of the music."
   ]
  },
  {
   "cell_type": "markdown",
   "id": "1f719a8a-50c9-475d-8bc4-b5436e1733ba",
   "metadata": {},
   "source": [
    "## EDA"
   ]
  },
  {
   "cell_type": "markdown",
   "id": "1fde82dc-2d36-4f48-81fa-0b0da05adea8",
   "metadata": {},
   "source": [
    "Are there any missing values?"
   ]
  },
  {
   "cell_type": "code",
   "execution_count": 3,
   "id": "a9e2fb09-d2ca-4214-bd97-37ddeff31dac",
   "metadata": {
    "tags": []
   },
   "outputs": [
    {
     "data": {
      "text/plain": [
       "popularity          0\n",
       "acousticness        0\n",
       "danceability        0\n",
       "duration_ms         0\n",
       "energy              0\n",
       "instrumentalness    0\n",
       "liveness            0\n",
       "loudness            0\n",
       "speechiness         0\n",
       "tempo               0\n",
       "valence             0\n",
       "genre               0\n",
       "dtype: int64"
      ]
     },
     "execution_count": 3,
     "metadata": {},
     "output_type": "execute_result"
    }
   ],
   "source": [
    "music_df.isna().sum()"
   ]
  },
  {
   "cell_type": "markdown",
   "id": "316a4da1-232e-4489-ac26-80389dfedcdb",
   "metadata": {},
   "source": [
    "Le's check if our variables need to standardized or not.\n",
    "\n",
    "Usually I check min, max and mean to verify if the explanatory variables are in the same order of magnitude."
   ]
  },
  {
   "cell_type": "code",
   "execution_count": 4,
   "id": "dbd4e8a6-7b7a-48e3-82dc-a757693eed6f",
   "metadata": {},
   "outputs": [
    {
     "data": {
      "text/html": [
       "<div>\n",
       "<style scoped>\n",
       "    .dataframe tbody tr th:only-of-type {\n",
       "        vertical-align: middle;\n",
       "    }\n",
       "\n",
       "    .dataframe tbody tr th {\n",
       "        vertical-align: top;\n",
       "    }\n",
       "\n",
       "    .dataframe thead th {\n",
       "        text-align: right;\n",
       "    }\n",
       "</style>\n",
       "<table border=\"1\" class=\"dataframe\">\n",
       "  <thead>\n",
       "    <tr style=\"text-align: right;\">\n",
       "      <th></th>\n",
       "      <th>popularity</th>\n",
       "      <th>acousticness</th>\n",
       "      <th>danceability</th>\n",
       "      <th>duration_ms</th>\n",
       "      <th>energy</th>\n",
       "      <th>instrumentalness</th>\n",
       "      <th>liveness</th>\n",
       "      <th>loudness</th>\n",
       "      <th>speechiness</th>\n",
       "      <th>tempo</th>\n",
       "      <th>valence</th>\n",
       "      <th>genre</th>\n",
       "    </tr>\n",
       "  </thead>\n",
       "  <tbody>\n",
       "    <tr>\n",
       "      <th>min</th>\n",
       "      <td>0.000000</td>\n",
       "      <td>0.000003</td>\n",
       "      <td>0.062400</td>\n",
       "      <td>-1.000000e+00</td>\n",
       "      <td>0.002510</td>\n",
       "      <td>0.000000</td>\n",
       "      <td>0.025400</td>\n",
       "      <td>-38.718000</td>\n",
       "      <td>0.023400</td>\n",
       "      <td>28.942130</td>\n",
       "      <td>0.029800</td>\n",
       "      <td>0.000000</td>\n",
       "    </tr>\n",
       "    <tr>\n",
       "      <th>max</th>\n",
       "      <td>1000.000000</td>\n",
       "      <td>1000.000000</td>\n",
       "      <td>1000.000000</td>\n",
       "      <td>1.617333e+06</td>\n",
       "      <td>1000.000000</td>\n",
       "      <td>1000.000000</td>\n",
       "      <td>1000.000000</td>\n",
       "      <td>1000.000000</td>\n",
       "      <td>1000.000000</td>\n",
       "      <td>1000.000000</td>\n",
       "      <td>1000.000000</td>\n",
       "      <td>1000.000000</td>\n",
       "    </tr>\n",
       "    <tr>\n",
       "      <th>mean</th>\n",
       "      <td>163.429823</td>\n",
       "      <td>125.264740</td>\n",
       "      <td>125.420603</td>\n",
       "      <td>3.263212e+05</td>\n",
       "      <td>125.482064</td>\n",
       "      <td>125.180095</td>\n",
       "      <td>125.235135</td>\n",
       "      <td>116.961996</td>\n",
       "      <td>125.131547</td>\n",
       "      <td>221.239155</td>\n",
       "      <td>125.393714</td>\n",
       "      <td>125.437531</td>\n",
       "    </tr>\n",
       "  </tbody>\n",
       "</table>\n",
       "</div>"
      ],
      "text/plain": [
       "       popularity  acousticness  danceability   duration_ms       energy  \\\n",
       "min      0.000000      0.000003      0.062400 -1.000000e+00     0.002510   \n",
       "max   1000.000000   1000.000000   1000.000000  1.617333e+06  1000.000000   \n",
       "mean   163.429823    125.264740    125.420603  3.263212e+05   125.482064   \n",
       "\n",
       "      instrumentalness     liveness     loudness  speechiness        tempo  \\\n",
       "min           0.000000     0.025400   -38.718000     0.023400    28.942130   \n",
       "max        1000.000000  1000.000000  1000.000000  1000.000000  1000.000000   \n",
       "mean        125.180095   125.235135   116.961996   125.131547   221.239155   \n",
       "\n",
       "          valence        genre  \n",
       "min      0.029800     0.000000  \n",
       "max   1000.000000  1000.000000  \n",
       "mean   125.393714   125.437531  "
      ]
     },
     "execution_count": 4,
     "metadata": {},
     "output_type": "execute_result"
    }
   ],
   "source": [
    "music_df.describe().agg(['min','max','mean'])"
   ]
  },
  {
   "cell_type": "markdown",
   "id": "ca3ff3b5-de24-47d6-b899-e3c0087a5953",
   "metadata": {},
   "source": [
    "Analyzing this three statistics we conclude they are all in the same order of magnitude with the exception of duration_ms.\n",
    "\n",
    "So we will Standardize(scaling) with StandardScaler from sklearn."
   ]
  },
  {
   "cell_type": "code",
   "execution_count": 5,
   "id": "235d3e72-3e5c-43cd-b969-b7e765ed32c8",
   "metadata": {},
   "outputs": [
    {
     "data": {
      "text/plain": [
       "19762.413275219726"
      ]
     },
     "execution_count": 5,
     "metadata": {},
     "output_type": "execute_result"
    }
   ],
   "source": [
    "#First we will divide our data in features and labels\n",
    "X = music_df.drop('genre', axis = 'columns').values\n",
    "y = music_df.genre.values\n",
    "np.mean(X)"
   ]
  },
  {
   "cell_type": "code",
   "execution_count": 6,
   "id": "04dffb73-406c-4b16-9988-97b390a9ec1c",
   "metadata": {},
   "outputs": [
    {
     "name": "stdout",
     "output_type": "stream",
     "text": [
      "The initial dataset X has a mean of 19762.413275219726 with standardization has 4.037174635000569e-16\n",
      "The initial dataset X has a standard deviation of 71791.8429618064 with standardization has 0.9999999999999993\n"
     ]
    }
   ],
   "source": [
    "#Divide the dataset in train and test\n",
    "X_train, X_test, y_train, y_test = train_test_split(X,y, test_size = 0.2, random_state = 42)\n",
    "\n",
    "#Intitate Standard Scaler\n",
    "scaler = StandardScaler()\n",
    "\n",
    "#Fit & Transform Xtrain\n",
    "X_train_scaled = scaler.fit_transform(X_train)\n",
    "\n",
    "#Fit X_test\n",
    "X_test_scaled = scaler.transform(X_test)\n",
    "\n",
    "#Let's verify that the scaling occur\n",
    "print(f'The initial dataset X has a mean of {np.mean(X)} with standardization has {np.mean(X_train_scaled)}')\n",
    "print(f'The initial dataset X has a standard deviation of {np.std(X)} with standardization has {np.std(X_train_scaled)}')"
   ]
  },
  {
   "cell_type": "code",
   "execution_count": 7,
   "id": "d0234cd1-d815-4a3d-81fe-3acc89852a60",
   "metadata": {},
   "outputs": [
    {
     "data": {
      "text/plain": [
       "array([[ 2.35021073e-01, -7.61554579e-01, -2.59987728e-02, ...,\n",
       "        -5.58946758e-01, -1.11821899e+00,  6.70889094e-01],\n",
       "       [-2.78014046e+00, -6.65859821e-01, -1.46312158e-01, ...,\n",
       "        -5.06200787e-01, -9.68503215e-05,  5.27693780e-02],\n",
       "       [-1.55971793e+00,  2.31994725e+00, -7.35214520e-01, ...,\n",
       "        -3.38789663e-01,  1.80116970e-01, -9.24265284e-02],\n",
       "       ...,\n",
       "       [-1.48792837e+00,  1.55569561e+00,  1.19643747e-01, ...,\n",
       "        -6.02519516e-01, -1.55735533e+00, -1.04657106e+00],\n",
       "       [ 1.96523921e-02, -8.57712133e-01, -1.00750271e+00, ...,\n",
       "        -1.74818493e-01,  1.97989228e+00,  1.14381290e+00],\n",
       "       [ 1.02470624e+00, -7.80170965e-01,  5.31242171e-01, ...,\n",
       "        -5.08494090e-01,  1.98541183e-02,  2.01913680e+00]])"
      ]
     },
     "execution_count": 7,
     "metadata": {},
     "output_type": "execute_result"
    }
   ],
   "source": [
    "X_train_scaled"
   ]
  },
  {
   "cell_type": "markdown",
   "id": "ec62fd18-27e7-4dfe-915d-c1276c239701",
   "metadata": {},
   "source": [
    "## Evaluation of Classification Models\n",
    "\n",
    "We will evaluate the classification and after we will build a small pipeline to run the best classification model."
   ]
  },
  {
   "cell_type": "code",
   "execution_count": 8,
   "id": "d8d504d2-fab0-4ced-8e27-907e5c665f8c",
   "metadata": {},
   "outputs": [],
   "source": [
    "#Enumerate the models that we want to evaluate\n",
    "models = {'Logistic Regression' : LogisticRegression(), 'KNN' : KNeighborsClassifier(),\n",
    "            'Decision Tree Classifier' : DecisionTreeClassifier()}\n",
    "\n",
    "#Initiate a list to append results\n",
    "model_results = []\n",
    "\n",
    "#Start a looping through the models that we want to evaluate\n",
    "for model in models.values():\n",
    "     \n",
    "    #We will evaluate each model in 6 folds with shuffle after each fold to prevent eventula Bias during the evaluation\n",
    "    kf = KFold(n_splits = 6, random_state = 12, shuffle = True)\n",
    "    \n",
    "    #We will apply cross validation now for each of the folds generate above\n",
    "    cv = cross_val_score(model, X_train_scaled, y_train, cv=kf)\n",
    "    \n",
    "    # #Append the results to the model list\n",
    "    model_results.append(cv)"
   ]
  },
  {
   "cell_type": "markdown",
   "id": "354b0bce-11ac-40e6-8d30-714d183e0a3d",
   "metadata": {},
   "source": [
    "Now let's evaluate the classification models calculating the accuracy of each model."
   ]
  },
  {
   "cell_type": "code",
   "execution_count": 9,
   "id": "ac290206-aea4-4825-ba7e-f0ddd5c08b05",
   "metadata": {},
   "outputs": [
    {
     "name": "stdout",
     "output_type": "stream",
     "text": [
      "Logistic Regression has a 0.8699 accuracy with a standard deviation of 0.0332\n",
      "KNN has a 0.8087 accuracy with a standard deviation of 0.032\n",
      "Decision Tree Classifier has a 0.8175 accuracy with a standard deviation of 0.0152\n"
     ]
    }
   ],
   "source": [
    "print(f\"Logistic Regression has a {np.round(np.mean(model_results[0]),4)} accuracy with a standard deviation of {np.round(np.std(model_results[0]),4)}\")\n",
    "\n",
    "print(f\"KNN has a {np.round(np.mean(model_results[1]),4)} accuracy with a standard deviation of {np.round(np.std(model_results[1]),4)}\")\n",
    "\n",
    "print(f\"Decision Tree Classifier has a {np.round(np.mean(model_results[2]),4)} accuracy with a standard deviation of {np.round(np.std(model_results[2]),4)}\")"
   ]
  },
  {
   "cell_type": "markdown",
   "id": "ef9f9547-bffe-4283-b85f-ef6c81f5a8cc",
   "metadata": {},
   "source": [
    "Logistic Regression was clearly the best model with a 87% of accuracy, with a medium standard deviation.\n",
    "\n",
    "To finish let's plot cv scores in boxplots."
   ]
  },
  {
   "cell_type": "code",
   "execution_count": 10,
   "id": "8d7b1234-7c69-47e3-90eb-87d1f6ca56fe",
   "metadata": {},
   "outputs": [
    {
     "data": {
      "image/png": "[encoded data removed]",
      "text/plain": [
       "<Figure size 432x288 with 1 Axes>"
      ]
     },
     "metadata": {
      "needs_background": "light"
     },
     "output_type": "display_data"
    }
   ],
   "source": [
    "plt.boxplot(model_results, labels = models.keys())\n",
    "plt.show()"
   ]
  },
  {
   "cell_type": "markdown",
   "id": "7582dd23-8dfe-468b-aa39-9ca851b48a8e",
   "metadata": {},
   "source": [
    "## Logistic Regression Model"
   ]
  },
  {
   "cell_type": "markdown",
   "id": "8a264182-4dfe-43dc-b473-07c2b62f03f5",
   "metadata": {},
   "source": [
    "With Logistic Regression we will build a Pipeline to decide the following features,\n",
    "\n",
    "-- Solver: ‘lbfgs’, ‘sag’, ‘saga’ and ‘newton-cg’ \n",
    "\n",
    "-- Hyperparameter: 0.001 to 1.0\n",
    "\n",
    "Pipeline will have the following steps,\n",
    "\n",
    "-- SimpleImputer (to replace eventual nan values for the mean)\n",
    "\n",
    "-- Standardization\n",
    "\n",
    "-- Logistic Regression"
   ]
  },
  {
   "cell_type": "code",
   "execution_count": 11,
   "id": "07feaf94-36ed-43a5-b614-a4183888247e",
   "metadata": {
    "tags": []
   },
   "outputs": [],
   "source": [
    "X_train, X_test, y_train, y_test = train_test_split(X,y, test_size = 0.2, random_state = 42)\n",
    "\n",
    "#PipeLine Steps\n",
    "pipeline_steps = [('impute_mean_nan', SimpleImputer()),\n",
    "                  ('scaler', StandardScaler()),\n",
    "                  ('logreg', LogisticRegression())]\n",
    "\n",
    "#Initalize Pipeline\n",
    "pipeline = Pipeline(pipeline_steps)\n",
    "\n",
    "#Dict with the parameters that you want to test in logistic Regression\n",
    "parameters_eval = {'logreg__solver': ['lbfgs', 'sag', 'saga','newton-cg'],\n",
    "                   'logreg__C': np.linspace(0.001,1.0,10)}\n",
    "\n",
    "#Intialize GridSearch into this (This will run 4 * 10 times, 40 in total) to find the best combination for our model\n",
    "tuning_params = GridSearchCV(pipeline, param_grid = parameters_eval)\n",
    "\n",
    "#Fit the train dataset\n",
    "tuning_params.fit(X_train, y_train)\n",
    "\n",
    "#Predict the label\n",
    "y_pred = tuning_params.predict(X_test)"
   ]
  },
  {
   "cell_type": "code",
   "execution_count": 12,
   "id": "f489acda-0174-4259-b35f-32b70fc2871f",
   "metadata": {},
   "outputs": [
    {
     "name": "stdout",
     "output_type": "stream",
     "text": [
      "Tuned Logistic Regression Parameters {'logreg__C': 0.445, 'logreg__solver': 'lbfgs'} and Accuracy of 0.8\n"
     ]
    }
   ],
   "source": [
    "print(f\"Tuned Logistic Regression Parameters {tuning_params.best_params_} and Accuracy of {tuning_params.score(X_test, y_test)}\")"
   ]
  },
  {
   "cell_type": "markdown",
   "id": "6fdb96ae-49df-4737-bc52-db3fe1072b91",
   "metadata": {},
   "source": [
    "## Conclusion"
   ]
  },
  {
   "cell_type": "markdown",
   "id": "a67665f5-b320-4caa-97bb-c69c3cfedd22",
   "metadata": {},
   "source": [
    "The best model to predict music genre is Logistic regression with the solver 'lbfgs' and hyperparameter C of 0.445 that presented an accuracy of 80%."
   ]
  }
 ],
 "metadata": {
  "kernelspec": {
   "display_name": "Python 3 (ipykernel)",
   "language": "python",
   "name": "python3"
  },
  "language_info": {
   "codemirror_mode": {
    "name": "ipython",
    "version": 3
   },
   "file_extension": ".py",
   "mimetype": "text/x-python",
   "name": "python",
   "nbconvert_exporter": "python",
   "pygments_lexer": "ipython3",
   "version": "3.8.12"
  }
 },
 "nbformat": 4,
 "nbformat_minor": 5
}
